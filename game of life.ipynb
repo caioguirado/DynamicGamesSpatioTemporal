{
 "cells": [
  {
   "cell_type": "code",
   "execution_count": 1,
   "metadata": {},
   "outputs": [
    {
     "name": "stdout",
     "output_type": "stream",
     "text": [
      "pygame 2.0.1 (SDL 2.0.14, Python 3.8.5)\n",
      "Hello from the pygame community. https://www.pygame.org/contribute.html\n"
     ]
    }
   ],
   "source": [
    "# Python code to implement Conway's Game Of Life\n",
    "import pygame\n",
    "import numpy as np"
   ]
  },
  {
   "cell_type": "code",
   "execution_count": 2,
   "metadata": {},
   "outputs": [],
   "source": [
    "col_about_to_die = (200, 200, 225)\n",
    "col_alive = (255, 255, 215)\n",
    "col_background = (10, 10, 40)\n",
    "col_grid = (30, 30, 60)"
   ]
  },
  {
   "cell_type": "code",
   "execution_count": 3,
   "metadata": {},
   "outputs": [],
   "source": [
    "def update(surface, cur, sz):\n",
    "    nxt = np.zeros((cur.shape[0], cur.shape[1]))\n",
    "\n",
    "    for r, c in np.ndindex(cur.shape):\n",
    "        num_alive = np.sum(cur[r-1:r+2, c-1:c+2]) - cur[r, c]\n",
    "\n",
    "        if cur[r, c] == 1 and num_alive < 2 or num_alive > 3:\n",
    "            col = col_about_to_die\n",
    "        elif (cur[r, c] == 1 and 2 <= num_alive <= 3) or (cur[r, c] == 0 and num_alive == 3):\n",
    "            nxt[r, c] = 1\n",
    "            col = col_alive\n",
    "\n",
    "        col = col if cur[r, c] == 1 else col_background\n",
    "        pygame.draw.rect(surface, col, (c*sz, r*sz, sz-1, sz-1))\n",
    "\n",
    "    return nxt\n",
    "\n",
    "def init(dimx, dimy):\n",
    "    cells = np.zeros((dimy, dimx))\n",
    "    pattern = np.array([[0,0,0,0,0,0,0,0,0,0,0,0,0,0,0,0,0,0,0,0,0,0,0,0,1,0,0,0,0,0,0,0,0,0,0,0,0,0,0],\n",
    "                        [0,0,0,0,0,0,0,0,0,0,0,0,0,0,0,0,0,0,0,0,0,0,1,0,1,0,0,0,0,0,0,0,0,0,0,0,0,0,0],\n",
    "                        [0,0,0,0,0,0,0,0,0,0,0,0,1,1,0,0,0,0,0,0,1,1,0,0,0,0,0,0,0,0,0,0,0,0,1,1,0,0,0],\n",
    "                        [0,0,0,0,0,0,0,0,0,0,0,1,0,0,0,1,0,0,0,0,1,1,0,0,0,0,0,0,0,0,0,0,0,0,1,1,0,0,0],\n",
    "                        [1,1,0,0,0,0,0,0,0,0,1,0,0,0,0,0,1,0,0,0,1,1,0,0,0,0,0,0,0,0,0,0,0,0,0,0,0,0,0],\n",
    "                        [1,1,0,0,0,0,0,0,0,0,1,0,0,0,1,0,1,1,0,0,0,0,1,0,1,0,0,0,0,0,0,0,0,0,0,0,0,0,0],\n",
    "                        [0,0,0,0,0,0,0,0,0,0,1,0,0,0,0,0,1,0,0,0,0,0,0,0,1,0,0,0,0,0,0,0,0,0,1,0,0,0,0],\n",
    "                        [0,0,0,0,0,0,0,0,0,0,0,1,0,0,0,1,0,0,0,0,0,0,0,0,0,0,0,0,0,0,0,0,0,0,1,0,0,0,0],\n",
    "                        [0,0,0,0,0,0,0,0,0,0,0,0,1,1,0,0,0,0,0,0,0,0,0,0,0,0,0,0,0,0,0,0,0,0,1,0,0,0,0]]);\n",
    "    pos = (3,3)\n",
    "    cells[pos[0]:pos[0]+pattern.shape[0], pos[1]:pos[1]+pattern.shape[1]] = pattern\n",
    "    return cells"
   ]
  },
  {
   "cell_type": "code",
   "execution_count": 4,
   "metadata": {},
   "outputs": [],
   "source": [
    "# main() function\n",
    "def main(dimx, dimy, cellsize):\n",
    "    pygame.init()\n",
    "    surface = pygame.display.set_mode((dimx * cellsize, dimy * cellsize))\n",
    "    pygame.display.set_caption(\"John Conway's Game of Life\")\n",
    "    generation = 0\n",
    "    cells = init(dimx, dimy)\n",
    "    finalMatrix = cells.copy()\n",
    "    while True:\n",
    "        for event in pygame.event.get():\n",
    "            if event.type == pygame.QUIT:\n",
    "                pygame.quit()\n",
    "                return finalMatrix\n",
    "        generation = generation+1\n",
    "        surface.fill(col_grid)\n",
    "        cells = update(surface, cells, cellsize)\n",
    "        finalMatrix = np.dstack((finalMatrix, cells))\n",
    "        pygame.display.update()\n",
    "        if generation == 50:\n",
    "            pygame.quit()\n",
    "            return finalMatrix"
   ]
  },
  {
   "cell_type": "code",
   "execution_count": 5,
   "metadata": {},
   "outputs": [],
   "source": [
    " \n",
    "# call main\n",
    "if __name__ == '__main__':\n",
    "    finalMatrix = main(120,90,8)"
   ]
  },
  {
   "cell_type": "code",
   "execution_count": 6,
   "metadata": {},
   "outputs": [],
   "source": [
    "file = open(\"outputMatrix.txt\", \"w\")\n",
    "for row in finalMatrix:\n",
    "    np.savetxt(file, row)\n",
    "file.close()"
   ]
  },
  {
   "cell_type": "code",
   "execution_count": 7,
   "metadata": {},
   "outputs": [
    {
     "name": "stdout",
     "output_type": "stream",
     "text": [
      "True\n"
     ]
    }
   ],
   "source": [
    "original = np.loadtxt(\"outputMatrix.txt\").reshape(finalMatrix.shape)\n",
    "compare = original == finalMatrix\n",
    "print(compare.all())"
   ]
  },
  {
   "cell_type": "code",
   "execution_count": null,
   "metadata": {},
   "outputs": [],
   "source": []
  }
 ],
 "metadata": {
  "kernelspec": {
   "display_name": "Python 3",
   "language": "python",
   "name": "python3"
  },
  "language_info": {
   "codemirror_mode": {
    "name": "ipython",
    "version": 3
   },
   "file_extension": ".py",
   "mimetype": "text/x-python",
   "name": "python",
   "nbconvert_exporter": "python",
   "pygments_lexer": "ipython3",
   "version": "3.8.5"
  }
 },
 "nbformat": 4,
 "nbformat_minor": 5
}

{
 "cells": [
  {
   "cell_type": "code",
   "execution_count": null,
   "id": "b2a7f5e4",
   "metadata": {},
   "outputs": [],
   "source": [
    "# Python code to implement Conway's Game Of Life\n",
    "import pygame\n",
    "import numpy as np"
   ]
  },
  {
   "cell_type": "code",
   "execution_count": null,
   "id": "45e3876d",
   "metadata": {},
   "outputs": [],
   "source": [
    "col_about_to_die = (200, 200, 225)\n",
    "col_alive = (255, 255, 215)\n",
    "col_background = (10, 10, 40)\n",
    "col_grid = (30, 30, 60)"
   ]
  },
  {
   "cell_type": "code",
   "execution_count": null,
   "id": "e805e7c9",
   "metadata": {},
   "outputs": [],
   "source": [
    "def update(surface, cur, sz):\n",
    "    nxt = np.zeros((cur.shape[0], cur.shape[1]))\n",
    "\n",
    "    for r, c in np.ndindex(cur.shape):\n",
    "        num_alive = np.sum(cur[r-1:r+2, c-1:c+2]) - cur[r, c]\n",
    "\n",
    "        if cur[r, c] == 1 and num_alive < 2 or num_alive > 3:\n",
    "            col = col_about_to_die\n",
    "        elif (cur[r, c] == 1 and 2 <= num_alive <= 3) or (cur[r, c] == 0 and num_alive == 3):\n",
    "            nxt[r, c] = 1\n",
    "            col = col_alive\n",
    "\n",
    "        col = col if cur[r, c] == 1 else col_background\n",
    "        pygame.draw.rect(surface, col, (c*sz, r*sz, sz-1, sz-1))\n",
    "\n",
    "    return nxt\n",
    "\n",
    "def init(dimx, dimy, pattern, pos):\n",
    "    \n",
    "    cells = np.zeros((dimy, dimx))\n",
    "    cells[pos[0]:pos[0]+pattern.shape[0], pos[1]:pos[1]+pattern.shape[1]] = pattern\n",
    "    \n",
    "    return cells"
   ]
  },
  {
   "cell_type": "code",
   "execution_count": null,
   "id": "9dd8064d",
   "metadata": {},
   "outputs": [],
   "source": [
    "# main() function\n",
    "def main(numGen, iniFram, pattern, pos):\n",
    "    cellsize, dimx , dimy = 4, 100, 100\n",
    "    finalMatrix=None\n",
    "    pygame.init()\n",
    "    clock = pygame.time.Clock()\n",
    "    surface = pygame.display.set_mode((dimx * cellsize, dimy * cellsize))\n",
    "    pygame.display.set_caption(\"John Conway's Game of Life\")\n",
    "    generation = 1\n",
    "    cells = init(dimx, dimy, pattern, pos)\n",
    "    while True:\n",
    "        dt = clock.tick(300000)\n",
    "        \n",
    "        if generation >= iniFram:\n",
    "            finalMatrix = np.dstack((finalMatrix, cells)) if finalMatrix is not None else cells\n",
    "            \n",
    "        for event in pygame.event.get():\n",
    "            if event.type == pygame.QUIT:\n",
    "                pygame.quit()\n",
    "                return finalMatrix\n",
    "        generation = generation+1\n",
    "        surface.fill(col_grid)\n",
    "        cells = update(surface, cells, cellsize)\n",
    "        pygame.display.update()\n",
    "        if generation == numGen:\n",
    "            pygame.quit()\n",
    "            return finalMatrix"
   ]
  },
  {
   "cell_type": "code",
   "execution_count": null,
   "id": "64b39a27",
   "metadata": {},
   "outputs": [],
   "source": [
    " # call main\n",
    "if __name__ == '__main__':\n",
    "    inputs = []\n",
    "    inputs.append([\n",
    "        ['Generation_num', 30],\n",
    "        ['iniFrames', 10],\n",
    "        ['pattern' , np.array([ [0,0,0,0,0,0,0,0,0,0,0,0,0,0,0,0,0,0,0,0,0,0,0,0,1,0,0,0,0,0,0,0,0,0,0,0,0,0,0],\n",
    "                                [0,0,0,0,0,0,0,0,0,0,0,0,0,0,0,0,0,0,0,0,0,0,1,0,1,0,0,0,0,0,0,0,0,0,0,0,0,0,0],\n",
    "                                [0,0,0,0,0,0,0,0,0,0,0,0,1,1,0,0,0,0,0,0,1,1,0,0,0,0,0,0,0,0,0,0,0,0,1,1,0,0,0],\n",
    "                                [0,0,0,0,0,0,0,0,0,0,0,1,0,0,0,1,0,0,0,0,1,1,0,0,0,0,0,0,0,0,0,0,0,0,1,1,0,0,0],\n",
    "                                [1,1,0,0,0,0,0,0,0,0,1,0,0,0,0,0,1,0,0,0,1,1,0,0,0,0,0,0,0,0,0,0,0,0,0,0,0,0,0],\n",
    "                                [1,1,0,0,0,0,0,0,0,0,1,0,0,0,1,0,1,1,0,0,0,0,1,0,1,0,0,0,0,0,0,0,0,0,0,0,0,0,0],\n",
    "                                [0,0,0,0,0,0,0,0,0,0,1,0,0,0,0,0,1,0,0,0,0,0,0,0,1,0,0,0,0,0,0,0,0,0,1,0,0,0,0],\n",
    "                                [0,0,0,0,0,0,0,0,0,0,0,1,0,0,0,1,0,0,0,0,0,0,0,0,0,0,0,0,0,0,0,0,0,0,1,0,0,0,0],\n",
    "                                [0,0,0,0,0,0,0,0,0,0,0,0,1,1,0,0,0,0,0,0,0,0,0,0,0,0,0,0,0,0,0,0,0,0,1,0,0,0,0]])],\n",
    "        ['Position', (3,3)],\n",
    "        ])\n",
    "    \n",
    "    inputs.append([\n",
    "        ['Generation_num', 50],\n",
    "        ['iniFrames', 15],\n",
    "        ['pattern' , np.array([ [0,0,0,0,0,0,0,0,0,0,0,0,0,0,0,0,0,0,0,0,0,0,0,0,1,0,0,0,0,0,0,0,0,0,0,0,0,0,0],\n",
    "                                [0,0,0,0,0,0,0,0,0,0,0,0,0,0,0,0,0,0,0,0,0,0,1,0,1,0,0,0,0,0,0,0,0,0,0,0,0,0,0],\n",
    "                                [0,0,0,0,0,0,0,0,0,0,0,0,1,1,0,0,0,0,0,0,1,1,0,0,0,0,0,0,0,0,0,0,0,0,1,1,0,0,0],\n",
    "                                [0,0,0,0,0,0,0,0,0,0,0,1,0,0,0,1,0,0,0,0,1,1,0,0,0,0,0,0,0,0,0,0,0,0,1,1,0,0,0],\n",
    "                                [1,1,0,0,0,0,0,0,0,0,1,0,0,0,0,0,1,0,0,0,1,1,0,0,0,0,0,0,0,0,0,0,0,0,0,0,0,0,0],\n",
    "                                [1,1,0,0,0,0,0,0,0,0,1,0,0,0,1,0,1,1,0,0,0,0,1,0,1,0,0,0,0,0,0,0,0,0,0,0,0,0,0],\n",
    "                                [0,0,0,0,0,0,0,0,0,0,1,0,0,0,0,0,1,0,0,0,0,0,0,0,1,0,0,0,0,0,0,0,0,0,1,0,0,0,0],\n",
    "                                [0,0,0,0,0,0,0,0,0,0,0,1,0,0,0,1,0,0,0,0,0,0,0,0,0,0,0,0,0,0,0,0,0,0,1,0,0,0,0],\n",
    "                                [0,0,1,1,1,1,1,1,1,1,1,1,1,1,0,0,0,0,0,0,0,0,0,0,1,1,1,1,1,1,1,1,1,1,1,0,0,0,0]])],\n",
    "        ['Position', (3,3)],\n",
    "        ])\n",
    "    \n",
    "    finalMatrix = []\n",
    "    for input_ in inputs:\n",
    "        numGen, iniFram, pattern, pos = input_[0][1], input_[1][1], input_[2][1], input_[3][1]\n",
    "        finalMatrix.append([input_, main(numGen, iniFram, pattern, pos)])"
   ]
  },
  {
   "cell_type": "code",
   "execution_count": null,
   "id": "5e53c73f",
   "metadata": {
    "scrolled": false
   },
   "outputs": [],
   "source": [
    "print('Input: \\n', finalMatrix[0][0])\n",
    "print('\\nOutput shape: \\n',finalMatrix[0][1].shape)"
   ]
  }
 ],
 "metadata": {
  "kernelspec": {
   "display_name": "Python 3",
   "language": "python",
   "name": "python3"
  },
  "language_info": {
   "codemirror_mode": {
    "name": "ipython",
    "version": 3
   },
   "file_extension": ".py",
   "mimetype": "text/x-python",
   "name": "python",
   "nbconvert_exporter": "python",
   "pygments_lexer": "ipython3",
   "version": "3.6.9"
  }
 },
 "nbformat": 4,
 "nbformat_minor": 5
}

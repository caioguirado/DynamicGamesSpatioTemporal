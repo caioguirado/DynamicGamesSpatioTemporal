{
  "nbformat": 4,
  "nbformat_minor": 0,
  "metadata": {
    "colab": {
      "name": "ParseMatLab",
      "private_outputs": true,
      "provenance": [],
      "collapsed_sections": [
        "YHxUZWqils8I",
        "ScEZ6VO-rQTC",
        "oSMaat8-rWlw",
        "Pmj6ggN-rZa-",
        "uMQhKAGsrdmx",
        "I-4QO2fKzzvU"
      ],
      "toc_visible": true
    },
    "kernelspec": {
      "display_name": "Python 3",
      "language": "python",
      "name": "python3"
    },
    "language_info": {
      "codemirror_mode": {
        "name": "ipython",
        "version": 3
      },
      "file_extension": ".py",
      "mimetype": "text/x-python",
      "name": "python",
      "nbconvert_exporter": "python",
      "pygments_lexer": "ipython3",
      "version": "3.8.5"
    },
    "accelerator": "GPU"
  },
  "cells": [
    {
      "cell_type": "markdown",
      "metadata": {
        "id": "YHxUZWqils8I"
      },
      "source": [
        "#Section 1. Pulling all the necessary libraries and the repository to colab files\n",
        "\n",
        "---"
      ]
    },
    {
      "cell_type": "markdown",
      "metadata": {
        "id": "ScEZ6VO-rQTC"
      },
      "source": [
        "### 1.1 Installing and importing libraries"
      ]
    },
    {
      "cell_type": "code",
      "metadata": {
        "id": "_rg74Hsc2qnP"
      },
      "source": [
        "! pip install ply\n",
        "import sys"
      ],
      "execution_count": null,
      "outputs": []
    },
    {
      "cell_type": "markdown",
      "metadata": {
        "id": "oSMaat8-rWlw"
      },
      "source": [
        " ### 1.2 Clone github repository\n",
        " "
      ]
    },
    {
      "cell_type": "code",
      "metadata": {
        "id": "KA6Ej0xOjzbu"
      },
      "source": [
        "%cd /content\n",
        "!git clone -l -s https://github.com/victorlei/smop.git smop\n",
        "%cd smop\n",
        "!ls"
      ],
      "execution_count": null,
      "outputs": []
    },
    {
      "cell_type": "markdown",
      "metadata": {
        "id": "Pmj6ggN-rZa-"
      },
      "source": [
        "### 1.3 Appending repository to system path"
      ]
    },
    {
      "cell_type": "code",
      "metadata": {
        "id": "P-sOuE5dqP6c"
      },
      "source": [
        "# Defining the names and variables\n",
        "REPO_PATH = '/content/smop'\n",
        "models_path = []\n",
        "\n",
        "\n",
        "sys.path.append(REPO_PATH)\n",
        "print(sys.path)"
      ],
      "execution_count": null,
      "outputs": []
    },
    {
      "cell_type": "markdown",
      "metadata": {
        "id": "1Q3AKU9NZCdV"
      },
      "source": [
        "#Section 2. Running\n",
        "\n",
        "---\n",
        "\n",
        " - CHANGE ON smop/smop/resolve.py line 54 and 66 from \"G.node\" to \"G.nodes\"\n",
        "\n",
        " - Put inside of /content/smop the MatLab file and change the \"smop/solver.m\" to the name of your file\n",
        "\n",
        " - The output will be saved on /content/smop/yourFileName.py"
      ]
    },
    {
      "cell_type": "code",
      "metadata": {
        "id": "oLHVLux2ZNY0"
      },
      "source": [
        "!python -m run smop/solver.m"
      ],
      "execution_count": null,
      "outputs": []
    }
  ]
}